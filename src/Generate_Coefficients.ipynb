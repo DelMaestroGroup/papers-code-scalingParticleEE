{
 "cells": [
  {
   "cell_type": "markdown",
   "id": "cf1d5c7c",
   "metadata": {},
   "source": [
    "We consider numerical results generated from ED and DMRG for the n-particle entanglement entropy of the $J$-$V$ model at half filling in the Luttinger Liquid phase $-2 < V/J < 2$.\\begin{align}\n",
    "H &= -J\\sum_{i=1}^L(c_i^\\dagger c_{i+1}+c^\\dagger_{i+1}c_i)+V\\sum_{i=1}^Ln_in_{i+1}\n",
    "\\end{align}\n",
    "All the data files containing the coefficients from the fits can be generated from this notebook. The other notebook in this folder `Generating_Figures` can be used to generate the plots in the associated paper."
   ]
  },
  {
   "cell_type": "markdown",
   "id": "59737a19",
   "metadata": {},
   "source": [
    "## 0. Importing packages and loading data functions"
   ]
  },
  {
   "cell_type": "code",
   "execution_count": 1,
   "id": "8f4452d1",
   "metadata": {},
   "outputs": [],
   "source": [
    "import numpy as np\n",
    "import matplotlib.pyplot as plt \n",
    "from matplotlib.pyplot import cm\n",
    "from functools import partial\n",
    "import scipy.special as sp\n",
    "from scipy.optimize import curve_fit\n",
    "import os"
   ]
  },
  {
   "cell_type": "markdown",
   "id": "b5973b99",
   "metadata": {},
   "source": [
    "### Loading data"
   ]
  },
  {
   "cell_type": "code",
   "execution_count": 2,
   "id": "f577f2c4",
   "metadata": {},
   "outputs": [],
   "source": [
    "filenames=os.listdir('../data/ed')\n",
    "filenamesdmrg = os.listdir('../data/dmrg')"
   ]
  },
  {
   "cell_type": "code",
   "execution_count": 3,
   "id": "eafa3176",
   "metadata": {},
   "outputs": [],
   "source": [
    "try:\n",
    "    filenames.remove('.ipynb_checkpoints')\n",
    "    filenamesdmrg.remove('.ipynb_checkpoints')\n",
    "except:\n",
    "    pass"
   ]
  },
  {
   "cell_type": "code",
   "execution_count": 4,
   "id": "b0ebe168",
   "metadata": {},
   "outputs": [],
   "source": [
    "def loaddata(α,v,ln): #used for C coefficients/fixed n\n",
    "    N=[]\n",
    "    oneN=[]\n",
    "    ent=[] \n",
    "    for i in range(len(filenames)):    \n",
    "        fn = filenames[i]\n",
    "        n = int(fn.split(\"_\")[2][1:])\n",
    "        Nval = int(fn.split(\"_\")[4][1:])\n",
    "        if Nval > 10 and n == ln:\n",
    "            with open('../data/ed/'+fn,\"r\",encoding=\"utf-8\",errors='ignore') as file:\n",
    "                lines = file.readlines()\n",
    "                nLines = len(lines)\n",
    "            data = np.loadtxt('../data/ed/'+fn,encoding=\"utf-8\")    \n",
    "            try:\n",
    "                V  = data[:,0]\n",
    "                S1 = data[:,α]\n",
    "            except IndexError:\n",
    "                V = np.array([data[0]])\n",
    "                S1 = np.array([data[α]])\n",
    "            if v in V:\n",
    "                N.append(Nval)\n",
    "                oneN.append(1/Nval)\n",
    "                idx = np.where(V==v)\n",
    "                ent.append(np.exp(-S1[idx]))\n",
    "    for i in range(len(filenamesdmrg)):    \n",
    "        fn = filenamesdmrg[i]\n",
    "        n = int(fn.split(\"_\")[2][1:])\n",
    "        Nval = int(fn.split(\"_\")[4][1:])\n",
    "        if Nval > 10 and n==ln:\n",
    "            with open('../data/dmrg/'+fn,\"r\",encoding=\"utf-8\",errors='ignore') as file:\n",
    "                lines = file.readlines()\n",
    "                nLines = len(lines)\n",
    "            data = np.loadtxt('../data/dmrg/'+fn,encoding=\"utf-8\")    \n",
    "            try:\n",
    "                V  = data[:,0]\n",
    "                S1 = data[:,α]\n",
    "            except IndexError:\n",
    "                V = np.array([data[0]])\n",
    "                S1 = np.array([data[α]])\n",
    "            if v in V:\n",
    "                N.append(Nval)\n",
    "                oneN.append(1/Nval)\n",
    "                idx = np.where(V==v)\n",
    "                ent.append(np.exp(-S1[idx]))\n",
    "    return N, oneN,ent\n",
    "def loaddatafull(α,v): #used for full data set/A coefficients\n",
    "    nN=[]\n",
    "    N=[]\n",
    "    ent=[] \n",
    "    for i in range(len(filenames)):    \n",
    "        fn = filenames[i]\n",
    "        n = int(fn.split(\"_\")[2][1:])\n",
    "        Nval = int(fn.split(\"_\")[4][1:])\n",
    "        if Nval > 10:\n",
    "            with open('../data/ed/'+fn,\"r\",encoding=\"utf-8\",errors='ignore') as file:\n",
    "                lines = file.readlines()\n",
    "                nLines = len(lines)\n",
    "            data = np.loadtxt('../data/ed/'+fn,encoding=\"utf-8\")    \n",
    "            try:\n",
    "                V  = data[:,0]\n",
    "                S1 = data[:,α]\n",
    "            except IndexError:\n",
    "                V = np.array([data[0]])\n",
    "                S1 = np.array([data[α]])\n",
    "            if v in V:\n",
    "                nN.append(n/Nval)\n",
    "                N.append(Nval)\n",
    "                idx = np.where(V==v)\n",
    "                ent.append(S1[idx])\n",
    "    for i in range(len(filenamesdmrg)):    \n",
    "        fn = filenamesdmrg[i]\n",
    "        n = int(fn.split(\"_\")[2][1:])\n",
    "        Nval = int(fn.split(\"_\")[4][1:])\n",
    "        if Nval > 10:\n",
    "            with open('../data/dmrg/'+fn,\"r\",encoding=\"utf-8\",errors='ignore') as file:\n",
    "                lines = file.readlines()\n",
    "                nLines = len(lines)\n",
    "            data = np.loadtxt('../data/dmrg/'+fn,encoding=\"utf-8\")    \n",
    "            try:\n",
    "                V  = data[:,0]\n",
    "                S1 = data[:,α]\n",
    "            except IndexError:\n",
    "                V = np.array([data[0]])\n",
    "                S1 = np.array([data[α]])\n",
    "            if v in V:\n",
    "                ratio = n/Nval\n",
    "                nN.append(ratio)\n",
    "                N.append(Nval)\n",
    "                idx = np.where(V==v)\n",
    "                ent.append(S1[idx])\n",
    "    return N, nN, ent\n",
    "def addData(α,v, Nvalues, Svalues): #used for fixed ratio fitting\n",
    "    for i in range(len(filenames)):    \n",
    "        fn = filenames[i]\n",
    "        n = int(fn.split(\"_\")[2][1:])\n",
    "        N = int(fn.split(\"_\")[4][1:])\n",
    "        key=getkey(n,N)\n",
    "        if key != False:\n",
    "            with open('../data/ed/'+fn,\"r\",encoding=\"utf-8\",errors='ignore') as file:\n",
    "                lines = file.readlines()\n",
    "                nLines = len(lines)\n",
    "            data = np.loadtxt('../data/ed/'+fn,encoding=\"utf-8\")    \n",
    "            try:\n",
    "                V  = data[:,0]\n",
    "                S = data[:,α]\n",
    "            except IndexError:\n",
    "                V = np.array([data[0]])\n",
    "                S = np.array([data[α]])\n",
    "            if v in V:\n",
    "                idx = np.where(V==v)\n",
    "                Nvalues[key].append(N)\n",
    "                Svalues[key].append(S[idx])\n",
    "    for i in range(len(filenamesdmrg)):    \n",
    "        fn = filenamesdmrg[i]\n",
    "        n = int(fn.split(\"_\")[2][1:])\n",
    "        N = int(fn.split(\"_\")[4][1:])\n",
    "        key=getkey(n,N)\n",
    "        if key != False:\n",
    "            with open('../data/dmrg/'+fn,\"r\",encoding=\"utf-8\",errors='ignore') as file:\n",
    "                lines = file.readlines()\n",
    "                nLines = len(lines)\n",
    "            data = np.loadtxt('../data/dmrg/'+fn,encoding=\"utf-8\")    \n",
    "            try:\n",
    "                V  = data[:,0]\n",
    "                S = data[:,α]\n",
    "            except IndexError:\n",
    "                V = np.array([data[0]])\n",
    "                S = np.array([data[α]])\n",
    "            if v in V:\n",
    "                if N not in Nvalues[key]:\n",
    "                    idx = np.where(V==v)\n",
    "                    Nvalues[key].append(N)\n",
    "                    Svalues[key].append(S[idx])\n",
    "def getkey(n,N): #used for fixed ratio fitting\n",
    "    ratio=N/n\n",
    "    if ratio in ratios:\n",
    "        key = f'{int(ratio)}'\n",
    "        return key\n",
    "    else:\n",
    "        return False"
   ]
  },
  {
   "cell_type": "markdown",
   "id": "80945c65",
   "metadata": {},
   "source": [
    "## 1. Fitting Functions Used"
   ]
  },
  {
   "cell_type": "code",
   "execution_count": 5,
   "id": "c0e9ba97",
   "metadata": {},
   "outputs": [],
   "source": [
    "def scalingform(x,c1,c2,c3,c4,c5,v): #fitting form for n=1, all other interactions\n",
    "    exp = 4*g(v)\n",
    "    return c1*x**4+c2*x**(3+exp)+c3*x**2+c4*x**(1+exp)+c5\n",
    "def fitfunc(x,a,b,c): #fitting form for n=1, V/J=-1.65\n",
    "    return a*x**4+b*x**2+c\n",
    "def fitfunc23(x,a,b,c,d,e): #fitting form for n=2,3\n",
    "    return a*x**4+b*x**3+c*x**2+d*x+e\n",
    "def fitfuncfixed(x,a,b): #fitting form when ratios are fixed\n",
    "    return a*x+b\n",
    "def sinefit(ratio,A,B,C,D): #fitting form with different powers of sine with full data set\n",
    "    x=np.sin(np.pi*ratio)\n",
    "    return A*x**4+B*x**3+C*x**2+D*x"
   ]
  },
  {
   "cell_type": "markdown",
   "id": "424199fd",
   "metadata": {},
   "source": [
    "## 2. $C_{i}$ Coefficients"
   ]
  },
  {
   "cell_type": "markdown",
   "id": "4cab58ce",
   "metadata": {},
   "source": [
    "### Coefficients for $n=1$"
   ]
  },
  {
   "cell_type": "code",
   "execution_count": 8,
   "id": "f7d3fe94",
   "metadata": {},
   "outputs": [
    {
     "ename": "TypeError",
     "evalue": "_savetxt_dispatcher() got an unexpected keyword argument 'dtype'",
     "output_type": "error",
     "traceback": [
      "\u001b[1;31m---------------------------------------------------------------------------\u001b[0m",
      "\u001b[1;31mTypeError\u001b[0m                                 Traceback (most recent call last)",
      "\u001b[1;32m~\\AppData\\Local\\Temp\\ipykernel_34372\\3772229382.py\u001b[0m in \u001b[0;36m<module>\u001b[1;34m\u001b[0m\n\u001b[0;32m     10\u001b[0m     \u001b[0mperr\u001b[0m \u001b[1;33m=\u001b[0m \u001b[0mnp\u001b[0m\u001b[1;33m.\u001b[0m\u001b[0msqrt\u001b[0m\u001b[1;33m(\u001b[0m\u001b[0mnp\u001b[0m\u001b[1;33m.\u001b[0m\u001b[0mdiag\u001b[0m\u001b[1;33m(\u001b[0m\u001b[0mcov\u001b[0m\u001b[1;33m)\u001b[0m\u001b[1;33m)\u001b[0m\u001b[1;33m\u001b[0m\u001b[1;33m\u001b[0m\u001b[0m\n\u001b[0;32m     11\u001b[0m     \u001b[0mdata\u001b[0m\u001b[1;33m.\u001b[0m\u001b[0mappend\u001b[0m\u001b[1;33m(\u001b[0m\u001b[1;33m(\u001b[0m\u001b[1;34mf'α'\u001b[0m\u001b[1;33m,\u001b[0m\u001b[0mfit\u001b[0m\u001b[1;33m[\u001b[0m\u001b[1;36m2\u001b[0m\u001b[1;33m]\u001b[0m\u001b[1;33m,\u001b[0m\u001b[0mperr\u001b[0m\u001b[1;33m[\u001b[0m\u001b[1;36m2\u001b[0m\u001b[1;33m]\u001b[0m\u001b[1;33m,\u001b[0m\u001b[0mfit\u001b[0m\u001b[1;33m[\u001b[0m\u001b[1;36m1\u001b[0m\u001b[1;33m]\u001b[0m\u001b[1;33m,\u001b[0m\u001b[0mperr\u001b[0m\u001b[1;33m[\u001b[0m\u001b[1;36m1\u001b[0m\u001b[1;33m]\u001b[0m\u001b[1;33m,\u001b[0m\u001b[0mfit\u001b[0m\u001b[1;33m[\u001b[0m\u001b[1;36m0\u001b[0m\u001b[1;33m]\u001b[0m\u001b[1;33m,\u001b[0m\u001b[0mperr\u001b[0m\u001b[1;33m[\u001b[0m\u001b[1;36m0\u001b[0m\u001b[1;33m]\u001b[0m\u001b[1;33m)\u001b[0m\u001b[1;33m)\u001b[0m\u001b[1;33m\u001b[0m\u001b[1;33m\u001b[0m\u001b[0m\n\u001b[1;32m---> 12\u001b[1;33m \u001b[0mnp\u001b[0m\u001b[1;33m.\u001b[0m\u001b[0msavetxt\u001b[0m\u001b[1;33m(\u001b[0m\u001b[1;34mf'../data/coefficients/CoeffsFixedn/Fixedncoefficientsv={v}.dat'\u001b[0m\u001b[1;33m,\u001b[0m\u001b[0mdata\u001b[0m\u001b[1;33m,\u001b[0m\u001b[0mheader\u001b[0m\u001b[1;33m=\u001b[0m\u001b[1;34mr'α,$C_4$,$C_2$,$C_0$'\u001b[0m\u001b[1;33m,\u001b[0m\u001b[0mencoding\u001b[0m\u001b[1;33m=\u001b[0m\u001b[1;34m'utf-8'\u001b[0m\u001b[1;33m,\u001b[0m\u001b[0mdtype\u001b[0m\u001b[1;33m=\u001b[0m\u001b[0mstr\u001b[0m\u001b[1;33m)\u001b[0m\u001b[1;33m\u001b[0m\u001b[1;33m\u001b[0m\u001b[0m\n\u001b[0m\u001b[0;32m     13\u001b[0m \u001b[0mvs\u001b[0m \u001b[1;33m=\u001b[0m \u001b[1;33m[\u001b[0m\u001b[1;33m-\u001b[0m\u001b[1;36m1.00\u001b[0m\u001b[1;33m,\u001b[0m\u001b[1;36m1.65\u001b[0m\u001b[1;33m,\u001b[0m\u001b[1;36m1.75\u001b[0m\u001b[1;33m]\u001b[0m\u001b[1;33m\u001b[0m\u001b[1;33m\u001b[0m\u001b[0m\n\u001b[0;32m     14\u001b[0m \u001b[1;31m#for v in vs:\u001b[0m\u001b[1;33m\u001b[0m\u001b[1;33m\u001b[0m\u001b[0m\n",
      "\u001b[1;32m<__array_function__ internals>\u001b[0m in \u001b[0;36msavetxt\u001b[1;34m(*args, **kwargs)\u001b[0m\n",
      "\u001b[1;31mTypeError\u001b[0m: _savetxt_dispatcher() got an unexpected keyword argument 'dtype'"
     ]
    }
   ],
   "source": [
    "nval=1\n",
    "v=-1.65\n",
    "data = []\n",
    "for α in [1,2,3]:\n",
    "    N, oneN, ent = loaddata(α,v,nval)\n",
    "    oneN=np.array(oneN)\n",
    "    ent = np.array(ent)\n",
    "    ent=ent.reshape((-1,))\n",
    "    fit, cov= curve_fit(fitfunc, oneN, ent)\n",
    "    perr = np.sqrt(np.diag(cov))\n",
    "    data.append((f'α',fit[2],perr[2],fit[1],perr[1],fit[0],perr[0]))\n",
    "np.savetxt(f'../data/coefficients/CoeffsFixedn/Fixedncoefficientsv={v}.dat',data,header=r'α,$C_4$,$C_2$,$C_0$',encoding='utf-8',dtype=str)\n",
    "vs = [-1.00,1.65,1.75]\n",
    "#for v in vs:\n",
    "    "
   ]
  },
  {
   "cell_type": "markdown",
   "id": "a02574f3",
   "metadata": {},
   "source": [
    "### Coefficients for $n=2,3$"
   ]
  },
  {
   "cell_type": "code",
   "execution_count": null,
   "id": "5c3c4883",
   "metadata": {},
   "outputs": [],
   "source": []
  }
 ],
 "metadata": {
  "kernelspec": {
   "display_name": "Python 3 (ipykernel)",
   "language": "python",
   "name": "python3"
  },
  "language_info": {
   "codemirror_mode": {
    "name": "ipython",
    "version": 3
   },
   "file_extension": ".py",
   "mimetype": "text/x-python",
   "name": "python",
   "nbconvert_exporter": "python",
   "pygments_lexer": "ipython3",
   "version": "3.9.13"
  }
 },
 "nbformat": 4,
 "nbformat_minor": 5
}
